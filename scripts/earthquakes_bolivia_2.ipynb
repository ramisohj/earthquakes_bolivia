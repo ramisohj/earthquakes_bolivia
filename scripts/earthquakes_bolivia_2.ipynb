{
 "cells": [
  {
   "cell_type": "markdown",
   "id": "fc984aeb-b9c1-4d5b-9ef0-b83d639230b7",
   "metadata": {},
   "source": [
    "# Registro Sismico en Bolivia entre 1920 - 2024\n",
    "\n",
    "<center>\n",
    "    <img src=\"https://gitlab.com/ramisohj/data-science/-/raw/main/data/maps/bolivian-map.jpg?inline=false\" alt=\"drawing\" width=\"400\"/>\n",
    "</center>\n",
    "\n",
    "## Description\n",
    "Coleccion de datos acerca de los terremotos registrados entre los años 1920 y 2024.\n",
    "\n",
    "## Source\n",
    "* https://www.usgs.gov/\n",
    "* https://earthquake.usgs.gov/earthquakes/search/\n",
    "\n",
    "| Column | Data Type | Typical Values | Variable | Description |\n",
    "| ----- | ----- | ----- | ----- | ----- |\n",
    "| time | Date |  1970-01-01T00:00:00.000Z | CUANTITATIVA | Hora en la que se produjo el evento. |\n",
    "| latitude | Decimal | [-90.0, 90.0] | CUANTITATIVA | Grados decimales de latitud. Valores negativos para latitudes meridionales. |\n",
    "| longitude | Decimal | [-180.0, 180.0] | CUANTITATIVA | Grados decimales de longitud. Valores negativos para longitudes occidentales. |\n",
    "| depth | Decimal | [0, 1000] | CUANTITATIVA | Profundidad del evento en kilómetros. |\n",
    "| mag | Decimal | [-1.0, 10.0] | CUANTITATIVA | La magnitud del evento. |\n",
    "| magType | String | [Md, Ml, Ms, Mw, Me, Mi, Mb, MLg] | CUALITATIVA | El método o algoritmo utilizado para calcular la magnitud preferida para el evento. |\n",
    "| nst | Integer | | CUANTITATIVA | El número total de estaciones sísmicas utilizadas para determinar la ubicación del terremoto. |\n",
    "| gap | Decimal | [0.0, 180.0] | CUANTITATIVA | La mayor brecha azimutal entre estaciones azimutalmente adyacentes (en grados). |\n",
    "| dmin | Decimal | [0.4, 7.1] | CUANTITATIVA | Distancia horizontal desde el epicentro hasta la estación más cercana (en grados). 1 grado equivale aproximadamente a 111,2 kilómetros. |\n",
    "| rms | Decimal | [0.13,1.39] | CUANTITATIVA | El tiempo de viaje residual de la media cuadrática (RMS), en segundos, utilizando todos los pesos. Este parámetro proporciona una medida del ajuste de los tiempos de llegada observados con los tiempos de llegada previstos para esta ubicación. |\n",
    "| net | String | [ak, at, ci, hv, ld, mb, nc, nm, nn, pr, pt, se, us, uu, uw] | CUALITATIVA | Identificador del colaborador de datos. Identifica la red considerada como la fuente preferida de información para este evento. |\n",
    "| id | String | usp00000aa | CUALITATIVA | Un identificador único para el evento. Este es el identificador preferido actual para el evento y puede cambiar con el tiempo. |\n",
    "| updated | Date | 1970-01-01T00:00:00.000Z | CUANTITATIVA | Hora en que se actualizó el evento por última vez. |\n",
    "| place | String | | CUALITATIVA | Descripción textual de la región geográfica mencionada cerca del evento. |\n",
    "| type | String | [earthquake, quarry] | CUALITATIVA | Tipo de evento sísmico. |\n",
    "| horizontalError | Decimal | [0, 100] | CUANTITATIVA | Incertidumbre de la ubicación reportada del evento en kilómetros. |\n",
    "| depthError | Decimal | [0, 100] | CUANTITATIVA | Incertidumbre de la profundidad reportada del evento en kilómetros. |\n",
    "| magError | Decimal | [0, 100] | CUANTITATIVA | Incertidumbre de la magnitud informada del evento. Error estándar estimado de la magnitud. |\n",
    "| magNst | Integer | | CUANTITATIVA | El número total de estaciones sísmicas utilizadas para calcular la magnitud de este terremoto. |\n",
    "| status | String | [automatic, reviewed, deleted] | CUALITATIVA | Indica si el evento ha sido revisado por un humano. |\n",
    "| locationSource | String | [ak, at, ci, hv, ld, mb, nc, nm, nn, pr, pt, se, us, uu, uw] | CUALITATIVA | La red que originalmente fue autora de la ubicación reportada de este evento. |\n",
    "| magSource | String | [ak, at, ci, hv, ld, mb, nc, nm, nn, pr, pt, se, us, uu, uw] | CUALITATIVA | Red que originalmente fue autora de la magnitud reportada para este evento. |ada para este evento. ||\n",
    "|"
   ]
  },
  {
   "cell_type": "markdown",
   "id": "3717cc28-1579-4723-9d2f-69f89bcf3095",
   "metadata": {},
   "source": [
    "## Eleccion de variable cualitativa\n",
    "* mag (magnitud del terremoto en escala richter represantado en un numero decimal)"
   ]
  },
  {
   "cell_type": "markdown",
   "id": "9435bc7f-1d7e-4753-8f78-b2d86d114b2e",
   "metadata": {},
   "source": [
    "## 1. Analisis de intervalo -de confianza (0.90 - 0.95 - 0.99) de los ultimos 100 terremotos en Bolivia segun su magnitud"
   ]
  },
  {
   "cell_type": "code",
   "execution_count": 379,
   "id": "620f6c79-1756-4744-b8bb-3501b0e7ef71",
   "metadata": {},
   "outputs": [
    {
     "name": "stdout",
     "output_type": "stream",
     "text": [
      "mean:  4.435\n",
      "std:  0.2868762447432339\n",
      "size:  100\n",
      "Confidence interval at 90.0%: (4.387813056834787, 4.482186943165212)\n",
      "Confidence interval at 95.0%: (4.378773289228316, 4.4912267107716835)\n",
      "Confidence interval at 99.0%: (4.361105576229831, 4.508894423770168)\n"
     ]
    }
   ],
   "source": [
    "import pandas as pd\n",
    "import numpy as np\n",
    "import math\n",
    "from scipy.stats import norm\n",
    "\n",
    "\n",
    "########################################################################################################\n",
    "# readind the CSV file\n",
    "url = 'https://gitlab.com/ramisohj/data-science/-/raw/main/data/earthquake/earthquakes_bolivia_1920-2024.csv?inline=false'\n",
    "data_earthquake = pd.read_csv(url)\n",
    "########################################################################################################\n",
    "# getting data from object\n",
    "data_earthquake['time'] = (pd.to_datetime(data['time']))\n",
    "########################################################################################################\n",
    "# getting the last 100 records\n",
    "data_100 = data_earthquake.tail(100)\n",
    "\n",
    "# getting magnitude column\n",
    "mag_data = data_100['mag']\n",
    "\n",
    "# confidence intervals\n",
    "trust_levels = [.9, .95, .99]\n",
    "\n",
    "mag_mean = np.mean(mag_data)\n",
    "mag_std = np.std(mag_data, ddof=1)\n",
    "mag_size = len(mag_data)\n",
    "\n",
    "print('mean: ', mag_mean)\n",
    "print('std: ', mag_std)\n",
    "print('size: ', mag_size)\n",
    "\n",
    "\n",
    "stats.norm\n",
    "# getting critical values\n",
    "critical_values =  [norm.ppf((1 + confidence) / 2) for confidence in trust_levels]\n",
    "# getting standard error\n",
    "standard_error = mag_std / np.sqrt(mag_size)\n",
    "# getting confidence intervals\n",
    "confidence_intervals = [\n",
    "    (mag_mean - critical_value * standard_error, mag_mean + critical_value * standard_error)\n",
    "    for critical_value in critical_values\n",
    "]\n",
    "# print confidence intervals\n",
    "for i, confidence_interval in enumerate(confidence_intervals):\n",
    "    confidence_level = trust_levels[i]\n",
    "    print(f'Confidence interval at {confidence_level*100}%: {confidence_interval}')\n",
    "\n"
   ]
  },
  {
   "cell_type": "markdown",
   "id": "f1b51bab-2a60-4388-8f00-21b4cdf817d7",
   "metadata": {},
   "source": [
    "## 2. Test de Hipotesis de Sismos en Uyuni y Atocha"
   ]
  },
  {
   "cell_type": "code",
   "execution_count": 373,
   "id": "f98338ce-770b-4f22-b2a7-c2609ca965e1",
   "metadata": {},
   "outputs": [
    {
     "name": "stdout",
     "output_type": "stream",
     "text": [
      "t-test:\n",
      "T-statistic: TtestResult(statistic=-1.0596085023495996, pvalue=0.29060715231175105, df=199)\n",
      "t_statistic_975: 1.9659423239761926\n",
      "media=  -0.028999999999999956\n",
      "mediana=  0.0\n",
      "ConfidenceInterval(low=-0.08296968753688289, high=0.024969687536882973)\n"
     ]
    }
   ],
   "source": [
    "from scipy import stats\n",
    "\n",
    "########################################################################################################\n",
    "# check if earthquakes in Uyuni and Atocha are the same (100 last records only)\n",
    "data_uyuni = data_earthquake[data_earthquake['place'].str.contains('Uyuni')].tail(200)\n",
    "data_atocha = data_earthquake[data_earthquake['place'].str.contains('Atocha')].tail(200)\n",
    "\n",
    "mag_uyuni = data_uyuni['mag']\n",
    "mag_uyuni = mag_uyuni.reset_index(drop=True)\n",
    "mag_atocha = data_atocha['mag']\n",
    "mag_atocha = mag_atocha.reset_index(drop=True)\n",
    "\n",
    "\n",
    "t_statistic = stats.ttest_1samp(mag_uyuni - mag_atocha, 0)\n",
    "t_statistic_975 =  stats.t.ppf(0.975, mag_uyuni.shape[0]*2-2)\n",
    "\n",
    "\n",
    "print(\"t-test:\")\n",
    "print(\"T-statistic:\", t_statistic)\n",
    "print('t_statistic_975:', t_statistic_975)\n",
    "print('media= ',np.mean(mag_uyuni - mag_atocha))\n",
    "print('mediana= ',np.median(mag_uyuni - mag_atocha))\n",
    "\n",
    "#Confidence interval at 95%\n",
    "print(t_statistic.confidence_interval(0.95))\n"
   ]
  },
  {
   "cell_type": "markdown",
   "id": "39d47e7a-370e-43ac-9fd4-1115f5e7a35a",
   "metadata": {},
   "source": [
    "### CONCLUSIONES:\n",
    "#### Como podemos ver el p-valor es mayor a 0.05, debido a esto, no se rechazara la hipotesis nula, esto se debe a que ambas localidades se encuentran cerca de la cordillera de los Andes por tal motivo tienen similar comportamiento sismico."
   ]
  },
  {
   "cell_type": "markdown",
   "id": "7944f155-f2d1-4f4a-9116-a626ab5979cc",
   "metadata": {},
   "source": [
    "## 3. Analisis ANOVA"
   ]
  },
  {
   "cell_type": "code",
   "execution_count": 362,
   "id": "5b593227-3a72-4534-a23f-6eac53bdc6a7",
   "metadata": {},
   "outputs": [
    {
     "name": "stdout",
     "output_type": "stream",
     "text": [
      "statistic:  3.868718663680521\n",
      "p_value:  7.242522159317592e-05\n",
      "                sum_sq      df         F         PR(>F)\n",
      "C(magType)  104.532206     9.0  79.02912  4.279435e-121\n",
      "Residual    233.971805  1592.0       NaN            NaN\n"
     ]
    }
   ],
   "source": [
    "import statsmodels.api as sm\n",
    "from statsmodels.formula.api import ols\n",
    "\n",
    "from scipy.stats import levene\n",
    "\n",
    "# check homogeneity\n",
    "# group by magnitude type\n",
    "group_m = df_mag_magType['mag'][df_mag_magType['magType']=='m']\n",
    "group_mb = df_mag_magType['mag'][df_mag_magType['magType']=='mb']\n",
    "group_md = df_mag_magType['mag'][df_mag_magType['magType']=='md']\n",
    "group_ml = df_mag_magType['mag'][df_mag_magType['magType']=='ml']\n",
    "group_ms = df_mag_magType['mag'][df_mag_magType['magType']=='ms']\n",
    "group_mw = df_mag_magType['mag'][df_mag_magType['magType']=='mw']\n",
    "group_mwb = df_mag_magType['mag'][df_mag_magType['magType']=='mwb']\n",
    "group_mwc = df_mag_magType['mag'][df_mag_magType['magType']=='mwc']\n",
    "group_mwr = df_mag_magType['mag'][df_mag_magType['magType']=='mwr']\n",
    "group_mww = df_mag_magType['mag'][df_mag_magType['magType']=='mww']\n",
    "\n",
    "# Levene\n",
    "statistic, p_value = levene(group_m, group_mb, group_md, group_ml, group_ms, group_mw, group_mwb, group_mwc, group_mwr, group_mww)\n",
    "print('statistic: ',statistic)\n",
    "print('p_value: ', p_value)\n",
    "\n",
    "df_mag_magType = data_earthquake[['mag', 'magType']]\n",
    "model = sm.OLS.from_formula('Q(\"mag\") ~ C(magType)', data = df_mag_magType).fit(cov_type='HC3')\n",
    "anova_result = sm.stats.anova_lm(model, typ=2)\n",
    "print(anova_result2)"
   ]
  },
  {
   "cell_type": "markdown",
   "id": "2ef75d43-7390-42b8-8e31-044464abcdbc",
   "metadata": {},
   "source": [
    "### CONCLUSIONES:\n",
    "#### Se rechazara la hipotesis nula, esto se debe a que los tipos de magnitudes estan comprendidos usualmente dentro de una rango de medida por lo tanto existe una diferencia."
   ]
  }
 ],
 "metadata": {
  "kernelspec": {
   "display_name": "Python 3 (ipykernel)",
   "language": "python",
   "name": "python3"
  },
  "language_info": {
   "codemirror_mode": {
    "name": "ipython",
    "version": 3
   },
   "file_extension": ".py",
   "mimetype": "text/x-python",
   "name": "python",
   "nbconvert_exporter": "python",
   "pygments_lexer": "ipython3",
   "version": "3.12.4"
  }
 },
 "nbformat": 4,
 "nbformat_minor": 5
}
